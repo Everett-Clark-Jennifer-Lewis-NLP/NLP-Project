{
 "cells": [
  {
   "cell_type": "code",
   "execution_count": 1,
   "id": "de7374ac",
   "metadata": {},
   "outputs": [],
   "source": [
    "import requests\n",
    "import matplotlib.pyplot as plt\n",
    "import seaborn as sns\n",
    "import pandas as pd\n",
    "import nltk\n",
    "import unicodedata\n",
    "import re\n",
    "from sklearn.feature_extraction.text import CountVectorizer, TfidfVectorizer\n",
    "from sklearn.tree import DecisionTreeClassifier\n",
    "from sklearn.model_selection import train_test_split"
   ]
  },
  {
   "cell_type": "code",
   "execution_count": 2,
   "id": "ba87b7bd",
   "metadata": {},
   "outputs": [
    {
     "data": {
      "text/html": [
       "<div>\n",
       "<style scoped>\n",
       "    .dataframe tbody tr th:only-of-type {\n",
       "        vertical-align: middle;\n",
       "    }\n",
       "\n",
       "    .dataframe tbody tr th {\n",
       "        vertical-align: top;\n",
       "    }\n",
       "\n",
       "    .dataframe thead th {\n",
       "        text-align: right;\n",
       "    }\n",
       "</style>\n",
       "<table border=\"1\" class=\"dataframe\">\n",
       "  <thead>\n",
       "    <tr style=\"text-align: right;\">\n",
       "      <th></th>\n",
       "      <th>repo</th>\n",
       "      <th>language</th>\n",
       "      <th>readme_contents</th>\n",
       "      <th>length</th>\n",
       "      <th>clean</th>\n",
       "      <th>word_count</th>\n",
       "      <th>words</th>\n",
       "    </tr>\n",
       "  </thead>\n",
       "  <tbody>\n",
       "    <tr>\n",
       "      <th>0</th>\n",
       "      <td>freeCodeCamp/freeCodeCamp</td>\n",
       "      <td>TypeScript</td>\n",
       "      <td>[![freeCodeCamp Social Banner](https://s3.amaz...</td>\n",
       "      <td>21411</td>\n",
       "      <td>['freecodecamp', 'social', 'pull', 'request', ...</td>\n",
       "      <td>668</td>\n",
       "      <td>freecodecamp social pull request open source s...</td>\n",
       "    </tr>\n",
       "    <tr>\n",
       "      <th>1</th>\n",
       "      <td>996icu/996.ICU</td>\n",
       "      <td>resources</td>\n",
       "      <td>[996.ICU](https://996.icu/#/en_US)\\n=======\\n*...</td>\n",
       "      <td>7262</td>\n",
       "      <td>['please', 'note', 'exists', 'official', 'acco...</td>\n",
       "      <td>444</td>\n",
       "      <td>please note exists official account app mercha...</td>\n",
       "    </tr>\n",
       "    <tr>\n",
       "      <th>2</th>\n",
       "      <td>EbookFoundation/free-programming-books</td>\n",
       "      <td>resources</td>\n",
       "      <td># List of Free Learning Resources In Many Lang...</td>\n",
       "      <td>14388</td>\n",
       "      <td>['list', 'free', 'learning', 'resource', 'many...</td>\n",
       "      <td>365</td>\n",
       "      <td>list free learning resource many language div ...</td>\n",
       "    </tr>\n",
       "    <tr>\n",
       "      <th>3</th>\n",
       "      <td>jwasham/coding-interview-university</td>\n",
       "      <td>resources</td>\n",
       "      <td># Coding Interview University\\n\\n&gt; I originall...</td>\n",
       "      <td>134890</td>\n",
       "      <td>['coding', 'interview', 'university', 'origina...</td>\n",
       "      <td>6509</td>\n",
       "      <td>coding interview university originally created...</td>\n",
       "    </tr>\n",
       "    <tr>\n",
       "      <th>4</th>\n",
       "      <td>sindresorhus/awesome</td>\n",
       "      <td>resources</td>\n",
       "      <td>&lt;div align=\"center\"&gt;\\n\\t&lt;a href=\"https://vshym...</td>\n",
       "      <td>74878</td>\n",
       "      <td>['div', 'aligncenter', 'img', 'width500', 'hei...</td>\n",
       "      <td>2855</td>\n",
       "      <td>div aligncenter img width500 height350 altawes...</td>\n",
       "    </tr>\n",
       "    <tr>\n",
       "      <th>...</th>\n",
       "      <td>...</td>\n",
       "      <td>...</td>\n",
       "      <td>...</td>\n",
       "      <td>...</td>\n",
       "      <td>...</td>\n",
       "      <td>...</td>\n",
       "      <td>...</td>\n",
       "    </tr>\n",
       "    <tr>\n",
       "      <th>95</th>\n",
       "      <td>ripienaar/free-for-dev</td>\n",
       "      <td>HTML</td>\n",
       "      <td># free-for.dev\\n\\nDevelopers and Open Source a...</td>\n",
       "      <td>223396</td>\n",
       "      <td>['freefordev', 'developer', 'open', 'source', ...</td>\n",
       "      <td>17922</td>\n",
       "      <td>freefordev developer open source author massiv...</td>\n",
       "    </tr>\n",
       "    <tr>\n",
       "      <th>96</th>\n",
       "      <td>atom/atom</td>\n",
       "      <td>JavaScript</td>\n",
       "      <td># Atom\\n\\n[![Build status](https://dev.azure.c...</td>\n",
       "      <td>4454</td>\n",
       "      <td>['atom', 'build', 'atom', 'repository', 'atom'...</td>\n",
       "      <td>254</td>\n",
       "      <td>atom build atom repository atom archived decem...</td>\n",
       "    </tr>\n",
       "    <tr>\n",
       "      <th>97</th>\n",
       "      <td>pytorch/pytorch</td>\n",
       "      <td>C++</td>\n",
       "      <td>![PyTorch Logo](https://github.com/pytorch/pyt...</td>\n",
       "      <td>22336</td>\n",
       "      <td>['pytorch', 'pytorch', 'python', 'package', 'p...</td>\n",
       "      <td>1530</td>\n",
       "      <td>pytorch pytorch python package provides two hi...</td>\n",
       "    </tr>\n",
       "    <tr>\n",
       "      <th>98</th>\n",
       "      <td>angular/angular.js</td>\n",
       "      <td>JavaScript</td>\n",
       "      <td>Using AngularJS with the Closure Compiler\\n===...</td>\n",
       "      <td>927</td>\n",
       "      <td>['using', 'angularjs', 'closure', 'compiler', ...</td>\n",
       "      <td>77</td>\n",
       "      <td>using angularjs closure compiler closure compi...</td>\n",
       "    </tr>\n",
       "    <tr>\n",
       "      <th>99</th>\n",
       "      <td>reduxjs/redux</td>\n",
       "      <td>TypeScript</td>\n",
       "      <td># &lt;a href='https://redux.js.org'&gt;&lt;img src='htt...</td>\n",
       "      <td>17366</td>\n",
       "      <td>['height60', 'altredux', 'logo', 'redux', 'pre...</td>\n",
       "      <td>965</td>\n",
       "      <td>height60 altredux logo redux predictable state...</td>\n",
       "    </tr>\n",
       "  </tbody>\n",
       "</table>\n",
       "<p>100 rows × 7 columns</p>\n",
       "</div>"
      ],
      "text/plain": [
       "                                      repo    language  \\\n",
       "0                freeCodeCamp/freeCodeCamp  TypeScript   \n",
       "1                           996icu/996.ICU   resources   \n",
       "2   EbookFoundation/free-programming-books   resources   \n",
       "3      jwasham/coding-interview-university   resources   \n",
       "4                     sindresorhus/awesome   resources   \n",
       "..                                     ...         ...   \n",
       "95                  ripienaar/free-for-dev        HTML   \n",
       "96                               atom/atom  JavaScript   \n",
       "97                         pytorch/pytorch         C++   \n",
       "98                      angular/angular.js  JavaScript   \n",
       "99                           reduxjs/redux  TypeScript   \n",
       "\n",
       "                                      readme_contents  length  \\\n",
       "0   [![freeCodeCamp Social Banner](https://s3.amaz...   21411   \n",
       "1   [996.ICU](https://996.icu/#/en_US)\\n=======\\n*...    7262   \n",
       "2   # List of Free Learning Resources In Many Lang...   14388   \n",
       "3   # Coding Interview University\\n\\n> I originall...  134890   \n",
       "4   <div align=\"center\">\\n\\t<a href=\"https://vshym...   74878   \n",
       "..                                                ...     ...   \n",
       "95  # free-for.dev\\n\\nDevelopers and Open Source a...  223396   \n",
       "96  # Atom\\n\\n[![Build status](https://dev.azure.c...    4454   \n",
       "97  ![PyTorch Logo](https://github.com/pytorch/pyt...   22336   \n",
       "98  Using AngularJS with the Closure Compiler\\n===...     927   \n",
       "99  # <a href='https://redux.js.org'><img src='htt...   17366   \n",
       "\n",
       "                                                clean  word_count  \\\n",
       "0   ['freecodecamp', 'social', 'pull', 'request', ...         668   \n",
       "1   ['please', 'note', 'exists', 'official', 'acco...         444   \n",
       "2   ['list', 'free', 'learning', 'resource', 'many...         365   \n",
       "3   ['coding', 'interview', 'university', 'origina...        6509   \n",
       "4   ['div', 'aligncenter', 'img', 'width500', 'hei...        2855   \n",
       "..                                                ...         ...   \n",
       "95  ['freefordev', 'developer', 'open', 'source', ...       17922   \n",
       "96  ['atom', 'build', 'atom', 'repository', 'atom'...         254   \n",
       "97  ['pytorch', 'pytorch', 'python', 'package', 'p...        1530   \n",
       "98  ['using', 'angularjs', 'closure', 'compiler', ...          77   \n",
       "99  ['height60', 'altredux', 'logo', 'redux', 'pre...         965   \n",
       "\n",
       "                                                words  \n",
       "0   freecodecamp social pull request open source s...  \n",
       "1   please note exists official account app mercha...  \n",
       "2   list free learning resource many language div ...  \n",
       "3   coding interview university originally created...  \n",
       "4   div aligncenter img width500 height350 altawes...  \n",
       "..                                                ...  \n",
       "95  freefordev developer open source author massiv...  \n",
       "96  atom build atom repository atom archived decem...  \n",
       "97  pytorch pytorch python package provides two hi...  \n",
       "98  using angularjs closure compiler closure compi...  \n",
       "99  height60 altredux logo redux predictable state...  \n",
       "\n",
       "[100 rows x 7 columns]"
      ]
     },
     "execution_count": 2,
     "metadata": {},
     "output_type": "execute_result"
    }
   ],
   "source": [
    "df = pd.read_csv('json_data.csv').drop(columns='Unnamed: 0')\n",
    "df"
   ]
  },
  {
   "cell_type": "code",
   "execution_count": 3,
   "id": "14acc250",
   "metadata": {},
   "outputs": [
    {
     "data": {
      "image/png": "[encoded data removed]",
      "text/plain": [
       "<Figure size 1152x648 with 1 Axes>"
      ]
     },
     "metadata": {
      "needs_background": "light"
     },
     "output_type": "display_data"
    }
   ],
   "source": [
    "plt.figure(figsize=(16,9))\n",
    "df.sort_values('length').length.plot.bar()\n",
    "#plt.xlabel(data.language)\n",
    "plt.show()"
   ]
  },
  {
   "cell_type": "code",
   "execution_count": 4,
   "id": "d2719cca",
   "metadata": {
    "scrolled": false
   },
   "outputs": [
    {
     "data": {
      "image/png": "[encoded data removed]",
      "text/plain": [
       "<Figure size 1152x648 with 1 Axes>"
      ]
     },
     "metadata": {
      "needs_background": "light"
     },
     "output_type": "display_data"
    }
   ],
   "source": [
    "plt.figure(figsize=(16,9))\n",
    "df.sort_values('word_count').word_count.plot.bar()\n",
    "#plt.xlabel(data.language)\n",
    "plt.show()"
   ]
  },
  {
   "cell_type": "code",
   "execution_count": 5,
   "id": "c323a028",
   "metadata": {
    "scrolled": true
   },
   "outputs": [
    {
     "data": {
      "text/html": [
       "<div>\n",
       "<style scoped>\n",
       "    .dataframe tbody tr th:only-of-type {\n",
       "        vertical-align: middle;\n",
       "    }\n",
       "\n",
       "    .dataframe tbody tr th {\n",
       "        vertical-align: top;\n",
       "    }\n",
       "\n",
       "    .dataframe thead th {\n",
       "        text-align: right;\n",
       "    }\n",
       "</style>\n",
       "<table border=\"1\" class=\"dataframe\">\n",
       "  <thead>\n",
       "    <tr style=\"text-align: right;\">\n",
       "      <th></th>\n",
       "      <th>word_count</th>\n",
       "      <th>length</th>\n",
       "    </tr>\n",
       "  </thead>\n",
       "  <tbody>\n",
       "    <tr>\n",
       "      <th>70</th>\n",
       "      <td>43</td>\n",
       "      <td>650</td>\n",
       "    </tr>\n",
       "    <tr>\n",
       "      <th>76</th>\n",
       "      <td>50</td>\n",
       "      <td>844</td>\n",
       "    </tr>\n",
       "    <tr>\n",
       "      <th>20</th>\n",
       "      <td>55</td>\n",
       "      <td>727</td>\n",
       "    </tr>\n",
       "    <tr>\n",
       "      <th>90</th>\n",
       "      <td>73</td>\n",
       "      <td>1770</td>\n",
       "    </tr>\n",
       "    <tr>\n",
       "      <th>98</th>\n",
       "      <td>77</td>\n",
       "      <td>927</td>\n",
       "    </tr>\n",
       "    <tr>\n",
       "      <th>...</th>\n",
       "      <td>...</td>\n",
       "      <td>...</td>\n",
       "    </tr>\n",
       "    <tr>\n",
       "      <th>6</th>\n",
       "      <td>12228</td>\n",
       "      <td>190404</td>\n",
       "    </tr>\n",
       "    <tr>\n",
       "      <th>30</th>\n",
       "      <td>16582</td>\n",
       "      <td>288480</td>\n",
       "    </tr>\n",
       "    <tr>\n",
       "      <th>95</th>\n",
       "      <td>17922</td>\n",
       "      <td>223396</td>\n",
       "    </tr>\n",
       "    <tr>\n",
       "      <th>42</th>\n",
       "      <td>18842</td>\n",
       "      <td>320583</td>\n",
       "    </tr>\n",
       "    <tr>\n",
       "      <th>73</th>\n",
       "      <td>21011</td>\n",
       "      <td>387407</td>\n",
       "    </tr>\n",
       "  </tbody>\n",
       "</table>\n",
       "<p>100 rows × 2 columns</p>\n",
       "</div>"
      ],
      "text/plain": [
       "    word_count  length\n",
       "70          43     650\n",
       "76          50     844\n",
       "20          55     727\n",
       "90          73    1770\n",
       "98          77     927\n",
       "..         ...     ...\n",
       "6        12228  190404\n",
       "30       16582  288480\n",
       "95       17922  223396\n",
       "42       18842  320583\n",
       "73       21011  387407\n",
       "\n",
       "[100 rows x 2 columns]"
      ]
     },
     "execution_count": 5,
     "metadata": {},
     "output_type": "execute_result"
    }
   ],
   "source": [
    "df.sort_values('word_count')[['word_count','length']]"
   ]
  },
  {
   "cell_type": "code",
   "execution_count": 6,
   "id": "3589c3cd",
   "metadata": {},
   "outputs": [
    {
     "data": {
      "text/plain": [
       "<AxesSubplot:>"
      ]
     },
     "execution_count": 6,
     "metadata": {},
     "output_type": "execute_result"
    },
    {
     "data": {
      "text/plain": [
       "<Figure size 864x504 with 0 Axes>"
      ]
     },
     "metadata": {},
     "output_type": "display_data"
    },
    {
     "data": {
      "image/png": "[encoded data removed]",
      "text/plain": [
       "<Figure size 432x288 with 1 Axes>"
      ]
     },
     "metadata": {
      "needs_background": "light"
     },
     "output_type": "display_data"
    }
   ],
   "source": [
    "plt.figure(figsize=(12,7))\n",
    "df.sort_values('length')[['word_count','length']].plot.bar()"
   ]
  },
  {
   "cell_type": "code",
   "execution_count": 7,
   "id": "1478c1bb",
   "metadata": {
    "scrolled": false
   },
   "outputs": [
    {
     "data": {
      "image/png": "[encoded data removed]",
      "text/plain": [
       "<Figure size 1152x648 with 1 Axes>"
      ]
     },
     "metadata": {
      "needs_background": "light"
     },
     "output_type": "display_data"
    }
   ],
   "source": [
    "plt.figure(figsize=(16,9))\n",
    "plt.bar(range(len(df.word_count)), sorted(df.word_count), color='black')\n",
    "plt.bar(range(len(df.length)), sorted(df.length), color='lightsteelblue', alpha=0.5)\n",
    "plt.ylabel('Count')\n",
    "plt.xlim(0,100)\n",
    "plt.grid()\n",
    "plt.title('Distribution of Character Length and word Count per Repository')\n",
    "plt.legend(['Word Count', 'Length'])\n",
    "plt.show()"
   ]
  },
  {
   "cell_type": "code",
   "execution_count": 8,
   "id": "8f24c822",
   "metadata": {},
   "outputs": [
    {
     "name": "stdout",
     "output_type": "stream",
     "text": [
      "JavaScript\n",
      "Frequency: 25\n",
      "Mean: 36871\n",
      "Max:  288480\n",
      "Min:  650\n",
      "-----\n",
      "resources\n",
      "Frequency: 17\n",
      "Mean: 67646\n",
      "Max:  387407\n",
      "Min:  4258\n",
      "-----\n",
      "TypeScript\n",
      "Frequency: 12\n",
      "Mean: 10301\n",
      "Max:  26763\n",
      "Min:  3014\n",
      "-----\n",
      "Python\n",
      "Frequency: 11\n",
      "Mean: 52845\n",
      "Max:  190404\n",
      "Min:  2122\n",
      "-----\n",
      "C++\n",
      "Frequency: 7\n",
      "Mean: 9861\n",
      "Max:  22336\n",
      "Min:  844\n",
      "-----\n",
      "Go\n",
      "Frequency: 7\n",
      "Mean: 62435\n",
      "Max:  320583\n",
      "Min:  1455\n",
      "-----\n",
      "Shell\n",
      "Frequency: 4\n",
      "Mean: 17420\n",
      "Max:  43631\n",
      "Min:  3151\n",
      "-----\n",
      "Java\n",
      "Frequency: 4\n",
      "Mean: 29049\n",
      "Max:  75595\n",
      "Min:  8106\n",
      "-----\n",
      "C\n",
      "Frequency: 3\n",
      "Mean: 16443\n",
      "Max:  32363\n",
      "Min:  727\n",
      "-----\n",
      "Rust\n",
      "Frequency: 2\n",
      "Mean: 6467\n",
      "Max:  10275\n",
      "Min:  2659\n",
      "-----\n",
      "Vim Script\n",
      "Frequency: 1\n",
      "Mean: 6243\n",
      "Max:  6243\n",
      "Min:  6243\n",
      "-----\n",
      "Clojure\n",
      "Frequency: 1\n",
      "Mean: 12209\n",
      "Max:  12209\n",
      "Min:  12209\n",
      "-----\n",
      "PHP\n",
      "Frequency: 1\n",
      "Mean: 4134\n",
      "Max:  4134\n",
      "Min:  4134\n",
      "-----\n",
      "Markdown\n",
      "Frequency: 1\n",
      "Mean: 17805\n",
      "Max:  17805\n",
      "Min:  17805\n",
      "-----\n",
      "Vue\n",
      "Frequency: 1\n",
      "Mean: 9486\n",
      "Max:  9486\n",
      "Min:  9486\n",
      "-----\n",
      "C#\n",
      "Frequency: 1\n",
      "Mean: 15102\n",
      "Max:  15102\n",
      "Min:  15102\n",
      "-----\n",
      "Dart\n",
      "Frequency: 1\n",
      "Mean: 6800\n",
      "Max:  6800\n",
      "Min:  6800\n",
      "-----\n",
      "HTML\n",
      "Frequency: 1\n",
      "Mean: 223396\n",
      "Max:  223396\n",
      "Min:  223396\n",
      "-----\n"
     ]
    }
   ],
   "source": [
    "for val in df.language.value_counts().index:\n",
    "    print(val)\n",
    "    print(f'Frequency: {len(df[df.language == val])}')\n",
    "    print(f'Mean: {round(df[df.language == val].length.mean())}')\n",
    "    print(f'Max:  {df[df.language == val].length.max()}')\n",
    "    print(f'Min:  {df[df.language == val].length.min()}')\n",
    "    print('-----')"
   ]
  },
  {
   "cell_type": "code",
   "execution_count": 9,
   "id": "4bf9021b",
   "metadata": {},
   "outputs": [
    {
     "name": "stdout",
     "output_type": "stream",
     "text": [
      "JavaScript word_count\n",
      "Frequency: 25\n",
      "Mean: 1961\n",
      "Max:  16582\n",
      "Min:  43\n",
      "-----\n",
      "resources word_count\n",
      "Frequency: 17\n",
      "Mean: 3382\n",
      "Max:  21011\n",
      "Min:  83\n",
      "-----\n",
      "TypeScript word_count\n",
      "Frequency: 12\n",
      "Mean: 382\n",
      "Max:  965\n",
      "Min:  107\n",
      "-----\n",
      "Python word_count\n",
      "Frequency: 11\n",
      "Mean: 2998\n",
      "Max:  12228\n",
      "Min:  88\n",
      "-----\n",
      "C++ word_count\n",
      "Frequency: 7\n",
      "Mean: 557\n",
      "Max:  1530\n",
      "Min:  50\n",
      "-----\n",
      "Go word_count\n",
      "Frequency: 7\n",
      "Mean: 3773\n",
      "Max:  18842\n",
      "Min:  102\n",
      "-----\n",
      "Shell word_count\n",
      "Frequency: 4\n",
      "Mean: 1227\n",
      "Max:  3472\n",
      "Min:  156\n",
      "-----\n",
      "Java word_count\n",
      "Frequency: 4\n",
      "Mean: 1110\n",
      "Max:  1727\n",
      "Min:  594\n",
      "-----\n",
      "C word_count\n",
      "Frequency: 3\n",
      "Mean: 1065\n",
      "Max:  2406\n",
      "Min:  55\n",
      "-----\n",
      "Rust word_count\n",
      "Frequency: 2\n",
      "Mean: 464\n",
      "Max:  776\n",
      "Min:  152\n",
      "-----\n",
      "Vim Script word_count\n",
      "Frequency: 1\n",
      "Mean: 301\n",
      "Max:  301\n",
      "Min:  301\n",
      "-----\n",
      "Clojure word_count\n",
      "Frequency: 1\n",
      "Mean: 659\n",
      "Max:  659\n",
      "Min:  659\n",
      "-----\n",
      "PHP word_count\n",
      "Frequency: 1\n",
      "Mean: 197\n",
      "Max:  197\n",
      "Min:  197\n",
      "-----\n",
      "Markdown word_count\n",
      "Frequency: 1\n",
      "Mean: 91\n",
      "Max:  91\n",
      "Min:  91\n",
      "-----\n",
      "Vue word_count\n",
      "Frequency: 1\n",
      "Mean: 619\n",
      "Max:  619\n",
      "Min:  619\n",
      "-----\n",
      "C# word_count\n",
      "Frequency: 1\n",
      "Mean: 899\n",
      "Max:  899\n",
      "Min:  899\n",
      "-----\n",
      "Dart word_count\n",
      "Frequency: 1\n",
      "Mean: 383\n",
      "Max:  383\n",
      "Min:  383\n",
      "-----\n",
      "HTML word_count\n",
      "Frequency: 1\n",
      "Mean: 17922\n",
      "Max:  17922\n",
      "Min:  17922\n",
      "-----\n"
     ]
    }
   ],
   "source": [
    "for val in df.language.value_counts().index:\n",
    "    print(f'{val} word_count')\n",
    "    print(f'Frequency: {len(df[df.language == val])}')\n",
    "    print(f'Mean: {round(df[df.language == val].word_count.mean())}')\n",
    "    print(f'Max:  {df[df.language == val].word_count.max()}')\n",
    "    print(f'Min:  {df[df.language == val].word_count.min()}')\n",
    "    print('-----')"
   ]
  },
  {
   "cell_type": "code",
   "execution_count": 10,
   "id": "95c82ae9",
   "metadata": {},
   "outputs": [
    {
     "name": "stdout",
     "output_type": "stream",
     "text": [
      "JavaScript\n"
     ]
    },
    {
     "data": {
      "image/png": "[encoded data removed]",
      "text/plain": [
       "<Figure size 432x288 with 1 Axes>"
      ]
     },
     "metadata": {
      "needs_background": "light"
     },
     "output_type": "display_data"
    },
    {
     "name": "stdout",
     "output_type": "stream",
     "text": [
      "-----\n",
      "resources\n"
     ]
    },
    {
     "data": {
      "image/png": "[encoded data removed]",
      "text/plain": [
       "<Figure size 432x288 with 1 Axes>"
      ]
     },
     "metadata": {
      "needs_background": "light"
     },
     "output_type": "display_data"
    },
    {
     "name": "stdout",
     "output_type": "stream",
     "text": [
      "-----\n",
      "TypeScript\n"
     ]
    },
    {
     "data": {
      "image/png": "[encoded data removed]",
      "text/plain": [
       "<Figure size 432x288 with 1 Axes>"
      ]
     },
     "metadata": {
      "needs_background": "light"
     },
     "output_type": "display_data"
    },
    {
     "name": "stdout",
     "output_type": "stream",
     "text": [
      "-----\n",
      "Python\n"
     ]
    },
    {
     "data": {
      "image/png": "[encoded data removed]",
      "text/plain": [
       "<Figure size 432x288 with 1 Axes>"
      ]
     },
     "metadata": {
      "needs_background": "light"
     },
     "output_type": "display_data"
    },
    {
     "name": "stdout",
     "output_type": "stream",
     "text": [
      "-----\n",
      "C++\n"
     ]
    },
    {
     "data": {
      "image/png": "[encoded data removed]",
      "text/plain": [
       "<Figure size 432x288 with 1 Axes>"
      ]
     },
     "metadata": {
      "needs_background": "light"
     },
     "output_type": "display_data"
    },
    {
     "name": "stdout",
     "output_type": "stream",
     "text": [
      "-----\n",
      "Go\n"
     ]
    },
    {
     "data": {
      "image/png": "[encoded data removed]",
      "text/plain": [
       "<Figure size 432x288 with 1 Axes>"
      ]
     },
     "metadata": {
      "needs_background": "light"
     },
     "output_type": "display_data"
    },
    {
     "name": "stdout",
     "output_type": "stream",
     "text": [
      "-----\n",
      "Shell\n"
     ]
    },
    {
     "data": {
      "image/png": "[encoded data removed]",
      "text/plain": [
       "<Figure size 432x288 with 1 Axes>"
      ]
     },
     "metadata": {
      "needs_background": "light"
     },
     "output_type": "display_data"
    },
    {
     "name": "stdout",
     "output_type": "stream",
     "text": [
      "-----\n",
      "Java\n"
     ]
    },
    {
     "data": {
      "image/png": "[encoded data removed]",
      "text/plain": [
       "<Figure size 432x288 with 1 Axes>"
      ]
     },
     "metadata": {
      "needs_background": "light"
     },
     "output_type": "display_data"
    },
    {
     "name": "stdout",
     "output_type": "stream",
     "text": [
      "-----\n",
      "C\n"
     ]
    },
    {
     "data": {
      "image/png": "[encoded data removed]",
      "text/plain": [
       "<Figure size 432x288 with 1 Axes>"
      ]
     },
     "metadata": {
      "needs_background": "light"
     },
     "output_type": "display_data"
    },
    {
     "name": "stdout",
     "output_type": "stream",
     "text": [
      "-----\n",
      "Rust\n"
     ]
    },
    {
     "data": {
      "image/png": "[encoded data removed]",
      "text/plain": [
       "<Figure size 432x288 with 1 Axes>"
      ]
     },
     "metadata": {
      "needs_background": "light"
     },
     "output_type": "display_data"
    },
    {
     "name": "stdout",
     "output_type": "stream",
     "text": [
      "-----\n",
      "Vim Script\n"
     ]
    },
    {
     "data": {
      "image/png": "[encoded data removed]",
      "text/plain": [
       "<Figure size 432x288 with 1 Axes>"
      ]
     },
     "metadata": {
      "needs_background": "light"
     },
     "output_type": "display_data"
    },
    {
     "name": "stdout",
     "output_type": "stream",
     "text": [
      "-----\n",
      "Clojure\n"
     ]
    },
    {
     "data": {
      "image/png": "[encoded data removed]",
      "text/plain": [
       "<Figure size 432x288 with 1 Axes>"
      ]
     },
     "metadata": {
      "needs_background": "light"
     },
     "output_type": "display_data"
    },
    {
     "name": "stdout",
     "output_type": "stream",
     "text": [
      "-----\n",
      "PHP\n"
     ]
    },
    {
     "data": {
      "image/png": "[encoded data removed]",
      "text/plain": [
       "<Figure size 432x288 with 1 Axes>"
      ]
     },
     "metadata": {
      "needs_background": "light"
     },
     "output_type": "display_data"
    },
    {
     "name": "stdout",
     "output_type": "stream",
     "text": [
      "-----\n",
      "Markdown\n"
     ]
    },
    {
     "data": {
      "image/png": "[encoded data removed]",
      "text/plain": [
       "<Figure size 432x288 with 1 Axes>"
      ]
     },
     "metadata": {
      "needs_background": "light"
     },
     "output_type": "display_data"
    },
    {
     "name": "stdout",
     "output_type": "stream",
     "text": [
      "-----\n",
      "Vue\n"
     ]
    },
    {
     "data": {
      "image/png": "[encoded data removed]",
      "text/plain": [
       "<Figure size 432x288 with 1 Axes>"
      ]
     },
     "metadata": {
      "needs_background": "light"
     },
     "output_type": "display_data"
    },
    {
     "name": "stdout",
     "output_type": "stream",
     "text": [
      "-----\n",
      "C#\n"
     ]
    },
    {
     "data": {
      "image/png": "[encoded data removed]",
      "text/plain": [
       "<Figure size 432x288 with 1 Axes>"
      ]
     },
     "metadata": {
      "needs_background": "light"
     },
     "output_type": "display_data"
    },
    {
     "name": "stdout",
     "output_type": "stream",
     "text": [
      "-----\n",
      "Dart\n"
     ]
    },
    {
     "data": {
      "image/png": "[encoded data removed]",
      "text/plain": [
       "<Figure size 432x288 with 1 Axes>"
      ]
     },
     "metadata": {
      "needs_background": "light"
     },
     "output_type": "display_data"
    },
    {
     "name": "stdout",
     "output_type": "stream",
     "text": [
      "-----\n",
      "HTML\n"
     ]
    },
    {
     "data": {
      "image/png": "[encoded data removed]",
      "text/plain": [
       "<Figure size 432x288 with 1 Axes>"
      ]
     },
     "metadata": {
      "needs_background": "light"
     },
     "output_type": "display_data"
    },
    {
     "name": "stdout",
     "output_type": "stream",
     "text": [
      "-----\n"
     ]
    }
   ],
   "source": [
    "for val in df.language.value_counts().index:\n",
    "    print(val)\n",
    "    df[df.language == val].sort_values('length').plot.barh()\n",
    "    plt.show()\n",
    "    print('-----')"
   ]
  },
  {
   "cell_type": "code",
   "execution_count": 11,
   "id": "fc7da07d",
   "metadata": {},
   "outputs": [
    {
     "data": {
      "text/html": [
       "<div>\n",
       "<style scoped>\n",
       "    .dataframe tbody tr th:only-of-type {\n",
       "        vertical-align: middle;\n",
       "    }\n",
       "\n",
       "    .dataframe tbody tr th {\n",
       "        vertical-align: top;\n",
       "    }\n",
       "\n",
       "    .dataframe thead th {\n",
       "        text-align: right;\n",
       "    }\n",
       "</style>\n",
       "<table border=\"1\" class=\"dataframe\">\n",
       "  <thead>\n",
       "    <tr style=\"text-align: right;\">\n",
       "      <th></th>\n",
       "      <th>typescript</th>\n",
       "      <th>resource</th>\n",
       "      <th>python</th>\n",
       "      <th>javascript</th>\n",
       "      <th>c++</th>\n",
       "      <th>shell</th>\n",
       "      <th>dart</th>\n",
       "      <th>c</th>\n",
       "      <th>java</th>\n",
       "      <th>markdown</th>\n",
       "      <th>go</th>\n",
       "      <th>rust</th>\n",
       "      <th>c#</th>\n",
       "      <th>vue</th>\n",
       "      <th>vim</th>\n",
       "      <th>php</th>\n",
       "      <th>clojure</th>\n",
       "      <th>html</th>\n",
       "      <th>all</th>\n",
       "    </tr>\n",
       "  </thead>\n",
       "  <tbody>\n",
       "    <tr>\n",
       "      <th>redux</th>\n",
       "      <td>69</td>\n",
       "      <td>10</td>\n",
       "      <td>0</td>\n",
       "      <td>1</td>\n",
       "      <td>0</td>\n",
       "      <td>0</td>\n",
       "      <td>0</td>\n",
       "      <td>0</td>\n",
       "      <td>0</td>\n",
       "      <td>0</td>\n",
       "      <td>0</td>\n",
       "      <td>0</td>\n",
       "      <td>0</td>\n",
       "      <td>0</td>\n",
       "      <td>0</td>\n",
       "      <td>0</td>\n",
       "      <td>0</td>\n",
       "      <td>0</td>\n",
       "      <td>80</td>\n",
       "    </tr>\n",
       "    <tr>\n",
       "      <th>code</th>\n",
       "      <td>48</td>\n",
       "      <td>150</td>\n",
       "      <td>111</td>\n",
       "      <td>151</td>\n",
       "      <td>35</td>\n",
       "      <td>6</td>\n",
       "      <td>7</td>\n",
       "      <td>1</td>\n",
       "      <td>10</td>\n",
       "      <td>0</td>\n",
       "      <td>123</td>\n",
       "      <td>2</td>\n",
       "      <td>5</td>\n",
       "      <td>1</td>\n",
       "      <td>3</td>\n",
       "      <td>2</td>\n",
       "      <td>25</td>\n",
       "      <td>112</td>\n",
       "      <td>792</td>\n",
       "    </tr>\n",
       "    <tr>\n",
       "      <th>p</th>\n",
       "      <td>41</td>\n",
       "      <td>293</td>\n",
       "      <td>74</td>\n",
       "      <td>56</td>\n",
       "      <td>0</td>\n",
       "      <td>4</td>\n",
       "      <td>2</td>\n",
       "      <td>6</td>\n",
       "      <td>7</td>\n",
       "      <td>6</td>\n",
       "      <td>8</td>\n",
       "      <td>0</td>\n",
       "      <td>0</td>\n",
       "      <td>7</td>\n",
       "      <td>0</td>\n",
       "      <td>3</td>\n",
       "      <td>0</td>\n",
       "      <td>1</td>\n",
       "      <td>508</td>\n",
       "    </tr>\n",
       "    <tr>\n",
       "      <th>project</th>\n",
       "      <td>38</td>\n",
       "      <td>157</td>\n",
       "      <td>29</td>\n",
       "      <td>89</td>\n",
       "      <td>18</td>\n",
       "      <td>6</td>\n",
       "      <td>1</td>\n",
       "      <td>3</td>\n",
       "      <td>6</td>\n",
       "      <td>0</td>\n",
       "      <td>62</td>\n",
       "      <td>3</td>\n",
       "      <td>2</td>\n",
       "      <td>0</td>\n",
       "      <td>2</td>\n",
       "      <td>1</td>\n",
       "      <td>2</td>\n",
       "      <td>149</td>\n",
       "      <td>568</td>\n",
       "    </tr>\n",
       "    <tr>\n",
       "      <th>storybook</th>\n",
       "      <td>36</td>\n",
       "      <td>4</td>\n",
       "      <td>0</td>\n",
       "      <td>0</td>\n",
       "      <td>0</td>\n",
       "      <td>0</td>\n",
       "      <td>0</td>\n",
       "      <td>0</td>\n",
       "      <td>0</td>\n",
       "      <td>0</td>\n",
       "      <td>0</td>\n",
       "      <td>0</td>\n",
       "      <td>0</td>\n",
       "      <td>0</td>\n",
       "      <td>0</td>\n",
       "      <td>0</td>\n",
       "      <td>0</td>\n",
       "      <td>0</td>\n",
       "      <td>40</td>\n",
       "    </tr>\n",
       "    <tr>\n",
       "      <th>...</th>\n",
       "      <td>...</td>\n",
       "      <td>...</td>\n",
       "      <td>...</td>\n",
       "      <td>...</td>\n",
       "      <td>...</td>\n",
       "      <td>...</td>\n",
       "      <td>...</td>\n",
       "      <td>...</td>\n",
       "      <td>...</td>\n",
       "      <td>...</td>\n",
       "      <td>...</td>\n",
       "      <td>...</td>\n",
       "      <td>...</td>\n",
       "      <td>...</td>\n",
       "      <td>...</td>\n",
       "      <td>...</td>\n",
       "      <td>...</td>\n",
       "      <td>...</td>\n",
       "      <td>...</td>\n",
       "    </tr>\n",
       "    <tr>\n",
       "      <th>25kmo</th>\n",
       "      <td>0</td>\n",
       "      <td>0</td>\n",
       "      <td>0</td>\n",
       "      <td>0</td>\n",
       "      <td>0</td>\n",
       "      <td>0</td>\n",
       "      <td>0</td>\n",
       "      <td>0</td>\n",
       "      <td>0</td>\n",
       "      <td>0</td>\n",
       "      <td>0</td>\n",
       "      <td>0</td>\n",
       "      <td>0</td>\n",
       "      <td>0</td>\n",
       "      <td>0</td>\n",
       "      <td>0</td>\n",
       "      <td>0</td>\n",
       "      <td>1</td>\n",
       "      <td>1</td>\n",
       "    </tr>\n",
       "    <tr>\n",
       "      <th>oryhttpsorysh</th>\n",
       "      <td>0</td>\n",
       "      <td>0</td>\n",
       "      <td>0</td>\n",
       "      <td>0</td>\n",
       "      <td>0</td>\n",
       "      <td>0</td>\n",
       "      <td>0</td>\n",
       "      <td>0</td>\n",
       "      <td>0</td>\n",
       "      <td>0</td>\n",
       "      <td>0</td>\n",
       "      <td>0</td>\n",
       "      <td>0</td>\n",
       "      <td>0</td>\n",
       "      <td>0</td>\n",
       "      <td>0</td>\n",
       "      <td>0</td>\n",
       "      <td>1</td>\n",
       "      <td>1</td>\n",
       "    </tr>\n",
       "    <tr>\n",
       "      <th>idp</th>\n",
       "      <td>0</td>\n",
       "      <td>0</td>\n",
       "      <td>0</td>\n",
       "      <td>0</td>\n",
       "      <td>0</td>\n",
       "      <td>0</td>\n",
       "      <td>0</td>\n",
       "      <td>0</td>\n",
       "      <td>0</td>\n",
       "      <td>0</td>\n",
       "      <td>0</td>\n",
       "      <td>0</td>\n",
       "      <td>0</td>\n",
       "      <td>0</td>\n",
       "      <td>0</td>\n",
       "      <td>0</td>\n",
       "      <td>0</td>\n",
       "      <td>1</td>\n",
       "      <td>1</td>\n",
       "    </tr>\n",
       "    <tr>\n",
       "      <th>idaas</th>\n",
       "      <td>0</td>\n",
       "      <td>0</td>\n",
       "      <td>0</td>\n",
       "      <td>0</td>\n",
       "      <td>0</td>\n",
       "      <td>0</td>\n",
       "      <td>0</td>\n",
       "      <td>0</td>\n",
       "      <td>0</td>\n",
       "      <td>0</td>\n",
       "      <td>0</td>\n",
       "      <td>0</td>\n",
       "      <td>0</td>\n",
       "      <td>0</td>\n",
       "      <td>0</td>\n",
       "      <td>0</td>\n",
       "      <td>0</td>\n",
       "      <td>1</td>\n",
       "      <td>1</td>\n",
       "    </tr>\n",
       "    <tr>\n",
       "      <th>mojoauth</th>\n",
       "      <td>0</td>\n",
       "      <td>0</td>\n",
       "      <td>0</td>\n",
       "      <td>0</td>\n",
       "      <td>0</td>\n",
       "      <td>0</td>\n",
       "      <td>0</td>\n",
       "      <td>0</td>\n",
       "      <td>0</td>\n",
       "      <td>0</td>\n",
       "      <td>0</td>\n",
       "      <td>0</td>\n",
       "      <td>0</td>\n",
       "      <td>0</td>\n",
       "      <td>0</td>\n",
       "      <td>0</td>\n",
       "      <td>0</td>\n",
       "      <td>1</td>\n",
       "      <td>1</td>\n",
       "    </tr>\n",
       "  </tbody>\n",
       "</table>\n",
       "<p>27618 rows × 19 columns</p>\n",
       "</div>"
      ],
      "text/plain": [
       "               typescript  resource  python  javascript  c++  shell  dart  c  \\\n",
       "redux                  69        10       0           1    0      0     0  0   \n",
       "code                   48       150     111         151   35      6     7  1   \n",
       "p                      41       293      74          56    0      4     2  6   \n",
       "project                38       157      29          89   18      6     1  3   \n",
       "storybook              36         4       0           0    0      0     0  0   \n",
       "...                   ...       ...     ...         ...  ...    ...   ... ..   \n",
       "25kmo                   0         0       0           0    0      0     0  0   \n",
       "oryhttpsorysh           0         0       0           0    0      0     0  0   \n",
       "idp                     0         0       0           0    0      0     0  0   \n",
       "idaas                   0         0       0           0    0      0     0  0   \n",
       "mojoauth                0         0       0           0    0      0     0  0   \n",
       "\n",
       "               java  markdown   go  rust  c#  vue  vim  php  clojure  html  \\\n",
       "redux             0         0    0     0   0    0    0    0        0     0   \n",
       "code             10         0  123     2   5    1    3    2       25   112   \n",
       "p                 7         6    8     0   0    7    0    3        0     1   \n",
       "project           6         0   62     3   2    0    2    1        2   149   \n",
       "storybook         0         0    0     0   0    0    0    0        0     0   \n",
       "...             ...       ...  ...   ...  ..  ...  ...  ...      ...   ...   \n",
       "25kmo             0         0    0     0   0    0    0    0        0     1   \n",
       "oryhttpsorysh     0         0    0     0   0    0    0    0        0     1   \n",
       "idp               0         0    0     0   0    0    0    0        0     1   \n",
       "idaas             0         0    0     0   0    0    0    0        0     1   \n",
       "mojoauth          0         0    0     0   0    0    0    0        0     1   \n",
       "\n",
       "               all  \n",
       "redux           80  \n",
       "code           792  \n",
       "p              508  \n",
       "project        568  \n",
       "storybook       40  \n",
       "...            ...  \n",
       "25kmo            1  \n",
       "oryhttpsorysh    1  \n",
       "idp              1  \n",
       "idaas            1  \n",
       "mojoauth         1  \n",
       "\n",
       "[27618 rows x 19 columns]"
      ]
     },
     "execution_count": 11,
     "metadata": {},
     "output_type": "execute_result"
    }
   ],
   "source": [
    "wc = pd.read_csv('word_counts.csv', index_col=[0])\n",
    "wc"
   ]
  },
  {
   "cell_type": "code",
   "execution_count": 12,
   "id": "7f77c2b1",
   "metadata": {},
   "outputs": [
    {
     "data": {
      "text/plain": [
       "Index(['redux'], dtype='object')"
      ]
     },
     "execution_count": 12,
     "metadata": {},
     "output_type": "execute_result"
    }
   ],
   "source": [
    "wc.sort_values('typescript', ascending=False)[['typescript']].head(1).index"
   ]
  },
  {
   "cell_type": "code",
   "execution_count": 13,
   "id": "adb2391a",
   "metadata": {
    "scrolled": true
   },
   "outputs": [
    {
     "name": "stdout",
     "output_type": "stream",
     "text": [
      "       typescript\n",
      "redux          69\n",
      "     resource\n",
      "vue      1137\n",
      "     python\n",
      "yes    1738\n",
      "        javascript\n",
      "source        1014\n",
      "        c++\n",
      "window   74\n",
      "     shell\n",
      "nvm    220\n",
      "         dart\n",
      "flutter    21\n",
      "          c\n",
      "scrcpy  109\n",
      "    java\n",
      "td   216\n",
      "          markdown\n",
      "leetcode         7\n",
      "      go\n",
      "go  1221\n",
      "       rust\n",
      "build    36\n",
      "           c#\n",
      "powertoys  23\n",
      "    vue\n",
      "de   57\n",
      "     vim\n",
      "vim    9\n",
      "         php\n",
      "laravel   17\n",
      "      clojure\n",
      "code       25\n",
      "      html\n",
      "free  1065\n",
      "      all\n",
      "yes  1747\n"
     ]
    }
   ],
   "source": [
    "for col in wc.columns:\n",
    "    print(wc.sort_values(col, ascending=False)[[col]].head(1))"
   ]
  },
  {
   "cell_type": "code",
   "execution_count": 14,
   "id": "67b4b583",
   "metadata": {},
   "outputs": [
    {
     "data": {
      "text/html": [
       "<div>\n",
       "<style scoped>\n",
       "    .dataframe tbody tr th:only-of-type {\n",
       "        vertical-align: middle;\n",
       "    }\n",
       "\n",
       "    .dataframe tbody tr th {\n",
       "        vertical-align: top;\n",
       "    }\n",
       "\n",
       "    .dataframe thead th {\n",
       "        text-align: right;\n",
       "    }\n",
       "</style>\n",
       "<table border=\"1\" class=\"dataframe\">\n",
       "  <thead>\n",
       "    <tr style=\"text-align: right;\">\n",
       "      <th></th>\n",
       "      <th>repo</th>\n",
       "      <th>language</th>\n",
       "      <th>readme_contents</th>\n",
       "      <th>length</th>\n",
       "      <th>clean</th>\n",
       "      <th>word_count</th>\n",
       "      <th>words</th>\n",
       "    </tr>\n",
       "  </thead>\n",
       "  <tbody>\n",
       "    <tr>\n",
       "      <th>0</th>\n",
       "      <td>freeCodeCamp/freeCodeCamp</td>\n",
       "      <td>TypeScript</td>\n",
       "      <td>[![freeCodeCamp Social Banner](https://s3.amaz...</td>\n",
       "      <td>21411</td>\n",
       "      <td>['freecodecamp', 'social', 'pull', 'request', ...</td>\n",
       "      <td>668</td>\n",
       "      <td>freecodecamp social pull request open source s...</td>\n",
       "    </tr>\n",
       "    <tr>\n",
       "      <th>1</th>\n",
       "      <td>996icu/996.ICU</td>\n",
       "      <td>resources</td>\n",
       "      <td>[996.ICU](https://996.icu/#/en_US)\\n=======\\n*...</td>\n",
       "      <td>7262</td>\n",
       "      <td>['please', 'note', 'exists', 'official', 'acco...</td>\n",
       "      <td>444</td>\n",
       "      <td>please note exists official account app mercha...</td>\n",
       "    </tr>\n",
       "    <tr>\n",
       "      <th>2</th>\n",
       "      <td>EbookFoundation/free-programming-books</td>\n",
       "      <td>resources</td>\n",
       "      <td># List of Free Learning Resources In Many Lang...</td>\n",
       "      <td>14388</td>\n",
       "      <td>['list', 'free', 'learning', 'resource', 'many...</td>\n",
       "      <td>365</td>\n",
       "      <td>list free learning resource many language div ...</td>\n",
       "    </tr>\n",
       "    <tr>\n",
       "      <th>3</th>\n",
       "      <td>jwasham/coding-interview-university</td>\n",
       "      <td>resources</td>\n",
       "      <td># Coding Interview University\\n\\n&gt; I originall...</td>\n",
       "      <td>134890</td>\n",
       "      <td>['coding', 'interview', 'university', 'origina...</td>\n",
       "      <td>6509</td>\n",
       "      <td>coding interview university originally created...</td>\n",
       "    </tr>\n",
       "    <tr>\n",
       "      <th>4</th>\n",
       "      <td>sindresorhus/awesome</td>\n",
       "      <td>resources</td>\n",
       "      <td>&lt;div align=\"center\"&gt;\\n\\t&lt;a href=\"https://vshym...</td>\n",
       "      <td>74878</td>\n",
       "      <td>['div', 'aligncenter', 'img', 'width500', 'hei...</td>\n",
       "      <td>2855</td>\n",
       "      <td>div aligncenter img width500 height350 altawes...</td>\n",
       "    </tr>\n",
       "  </tbody>\n",
       "</table>\n",
       "</div>"
      ],
      "text/plain": [
       "                                     repo    language  \\\n",
       "0               freeCodeCamp/freeCodeCamp  TypeScript   \n",
       "1                          996icu/996.ICU   resources   \n",
       "2  EbookFoundation/free-programming-books   resources   \n",
       "3     jwasham/coding-interview-university   resources   \n",
       "4                    sindresorhus/awesome   resources   \n",
       "\n",
       "                                     readme_contents  length  \\\n",
       "0  [![freeCodeCamp Social Banner](https://s3.amaz...   21411   \n",
       "1  [996.ICU](https://996.icu/#/en_US)\\n=======\\n*...    7262   \n",
       "2  # List of Free Learning Resources In Many Lang...   14388   \n",
       "3  # Coding Interview University\\n\\n> I originall...  134890   \n",
       "4  <div align=\"center\">\\n\\t<a href=\"https://vshym...   74878   \n",
       "\n",
       "                                               clean  word_count  \\\n",
       "0  ['freecodecamp', 'social', 'pull', 'request', ...         668   \n",
       "1  ['please', 'note', 'exists', 'official', 'acco...         444   \n",
       "2  ['list', 'free', 'learning', 'resource', 'many...         365   \n",
       "3  ['coding', 'interview', 'university', 'origina...        6509   \n",
       "4  ['div', 'aligncenter', 'img', 'width500', 'hei...        2855   \n",
       "\n",
       "                                               words  \n",
       "0  freecodecamp social pull request open source s...  \n",
       "1  please note exists official account app mercha...  \n",
       "2  list free learning resource many language div ...  \n",
       "3  coding interview university originally created...  \n",
       "4  div aligncenter img width500 height350 altawes...  "
      ]
     },
     "execution_count": 14,
     "metadata": {},
     "output_type": "execute_result"
    }
   ],
   "source": [
    "df.head()"
   ]
  },
  {
   "cell_type": "code",
   "execution_count": 15,
   "id": "9c5a88f8",
   "metadata": {},
   "outputs": [],
   "source": [
    "#df[['repo', 'language', 'readme_contents']].to_csv('original_json_data.csv')"
   ]
  },
  {
   "cell_type": "code",
   "execution_count": 16,
   "id": "1a3b321c",
   "metadata": {
    "scrolled": true
   },
   "outputs": [
    {
     "data": {
      "text/html": [
       "<div>\n",
       "<style scoped>\n",
       "    .dataframe tbody tr th:only-of-type {\n",
       "        vertical-align: middle;\n",
       "    }\n",
       "\n",
       "    .dataframe tbody tr th {\n",
       "        vertical-align: top;\n",
       "    }\n",
       "\n",
       "    .dataframe thead th {\n",
       "        text-align: right;\n",
       "    }\n",
       "</style>\n",
       "<table border=\"1\" class=\"dataframe\">\n",
       "  <thead>\n",
       "    <tr style=\"text-align: right;\">\n",
       "      <th></th>\n",
       "      <th>repo</th>\n",
       "      <th>language</th>\n",
       "      <th>readme_contents</th>\n",
       "    </tr>\n",
       "  </thead>\n",
       "  <tbody>\n",
       "    <tr>\n",
       "      <th>0</th>\n",
       "      <td>freeCodeCamp/freeCodeCamp</td>\n",
       "      <td>TypeScript</td>\n",
       "      <td>[![freeCodeCamp Social Banner](https://s3.amaz...</td>\n",
       "    </tr>\n",
       "    <tr>\n",
       "      <th>1</th>\n",
       "      <td>996icu/996.ICU</td>\n",
       "      <td>resources</td>\n",
       "      <td>[996.ICU](https://996.icu/#/en_US)\\n=======\\n*...</td>\n",
       "    </tr>\n",
       "    <tr>\n",
       "      <th>2</th>\n",
       "      <td>EbookFoundation/free-programming-books</td>\n",
       "      <td>resources</td>\n",
       "      <td># List of Free Learning Resources In Many Lang...</td>\n",
       "    </tr>\n",
       "    <tr>\n",
       "      <th>3</th>\n",
       "      <td>jwasham/coding-interview-university</td>\n",
       "      <td>resources</td>\n",
       "      <td># Coding Interview University\\n\\n&gt; I originall...</td>\n",
       "    </tr>\n",
       "    <tr>\n",
       "      <th>4</th>\n",
       "      <td>sindresorhus/awesome</td>\n",
       "      <td>resources</td>\n",
       "      <td>&lt;div align=\"center\"&gt;\\n\\t&lt;a href=\"https://vshym...</td>\n",
       "    </tr>\n",
       "  </tbody>\n",
       "</table>\n",
       "</div>"
      ],
      "text/plain": [
       "                                     repo    language  \\\n",
       "0               freeCodeCamp/freeCodeCamp  TypeScript   \n",
       "1                          996icu/996.ICU   resources   \n",
       "2  EbookFoundation/free-programming-books   resources   \n",
       "3     jwasham/coding-interview-university   resources   \n",
       "4                    sindresorhus/awesome   resources   \n",
       "\n",
       "                                     readme_contents  \n",
       "0  [![freeCodeCamp Social Banner](https://s3.amaz...  \n",
       "1  [996.ICU](https://996.icu/#/en_US)\\n=======\\n*...  \n",
       "2  # List of Free Learning Resources In Many Lang...  \n",
       "3  # Coding Interview University\\n\\n> I originall...  \n",
       "4  <div align=\"center\">\\n\\t<a href=\"https://vshym...  "
      ]
     },
     "execution_count": 16,
     "metadata": {},
     "output_type": "execute_result"
    }
   ],
   "source": [
    "df = pd.read_csv('original_json_data.csv', index_col=[0])\n",
    "df.head()"
   ]
  },
  {
   "cell_type": "code",
   "execution_count": 17,
   "id": "56b01b72",
   "metadata": {},
   "outputs": [
    {
     "data": {
      "text/html": [
       "<div>\n",
       "<style scoped>\n",
       "    .dataframe tbody tr th:only-of-type {\n",
       "        vertical-align: middle;\n",
       "    }\n",
       "\n",
       "    .dataframe tbody tr th {\n",
       "        vertical-align: top;\n",
       "    }\n",
       "\n",
       "    .dataframe thead th {\n",
       "        text-align: right;\n",
       "    }\n",
       "</style>\n",
       "<table border=\"1\" class=\"dataframe\">\n",
       "  <thead>\n",
       "    <tr style=\"text-align: right;\">\n",
       "      <th></th>\n",
       "      <th>repo</th>\n",
       "      <th>language</th>\n",
       "      <th>readme_contents</th>\n",
       "    </tr>\n",
       "  </thead>\n",
       "  <tbody>\n",
       "    <tr>\n",
       "      <th>0</th>\n",
       "      <td>freeCodeCamp/freeCodeCamp</td>\n",
       "      <td>TypeScript</td>\n",
       "      <td>[![freeCodeCamp Social Banner](https://s3.amaz...</td>\n",
       "    </tr>\n",
       "    <tr>\n",
       "      <th>1</th>\n",
       "      <td>996icu/996.ICU</td>\n",
       "      <td>resources</td>\n",
       "      <td>[996.ICU](https://996.icu/#/en_US)\\n=======\\n*...</td>\n",
       "    </tr>\n",
       "    <tr>\n",
       "      <th>2</th>\n",
       "      <td>EbookFoundation/free-programming-books</td>\n",
       "      <td>resources</td>\n",
       "      <td># List of Free Learning Resources In Many Lang...</td>\n",
       "    </tr>\n",
       "    <tr>\n",
       "      <th>3</th>\n",
       "      <td>jwasham/coding-interview-university</td>\n",
       "      <td>resources</td>\n",
       "      <td># Coding Interview University\\n\\n&gt; I originall...</td>\n",
       "    </tr>\n",
       "    <tr>\n",
       "      <th>4</th>\n",
       "      <td>sindresorhus/awesome</td>\n",
       "      <td>resources</td>\n",
       "      <td>&lt;div align=\"center\"&gt;\\n\\t&lt;a href=\"https://vshym...</td>\n",
       "    </tr>\n",
       "    <tr>\n",
       "      <th>...</th>\n",
       "      <td>...</td>\n",
       "      <td>...</td>\n",
       "      <td>...</td>\n",
       "    </tr>\n",
       "    <tr>\n",
       "      <th>95</th>\n",
       "      <td>ripienaar/free-for-dev</td>\n",
       "      <td>HTML</td>\n",
       "      <td># free-for.dev\\n\\nDevelopers and Open Source a...</td>\n",
       "    </tr>\n",
       "    <tr>\n",
       "      <th>96</th>\n",
       "      <td>atom/atom</td>\n",
       "      <td>JavaScript</td>\n",
       "      <td># Atom\\n\\n[![Build status](https://dev.azure.c...</td>\n",
       "    </tr>\n",
       "    <tr>\n",
       "      <th>97</th>\n",
       "      <td>pytorch/pytorch</td>\n",
       "      <td>C++</td>\n",
       "      <td>![PyTorch Logo](https://github.com/pytorch/pyt...</td>\n",
       "    </tr>\n",
       "    <tr>\n",
       "      <th>98</th>\n",
       "      <td>angular/angular.js</td>\n",
       "      <td>JavaScript</td>\n",
       "      <td>Using AngularJS with the Closure Compiler\\n===...</td>\n",
       "    </tr>\n",
       "    <tr>\n",
       "      <th>99</th>\n",
       "      <td>reduxjs/redux</td>\n",
       "      <td>TypeScript</td>\n",
       "      <td># &lt;a href='https://redux.js.org'&gt;&lt;img src='htt...</td>\n",
       "    </tr>\n",
       "  </tbody>\n",
       "</table>\n",
       "<p>100 rows × 3 columns</p>\n",
       "</div>"
      ],
      "text/plain": [
       "                                      repo    language  \\\n",
       "0                freeCodeCamp/freeCodeCamp  TypeScript   \n",
       "1                           996icu/996.ICU   resources   \n",
       "2   EbookFoundation/free-programming-books   resources   \n",
       "3      jwasham/coding-interview-university   resources   \n",
       "4                     sindresorhus/awesome   resources   \n",
       "..                                     ...         ...   \n",
       "95                  ripienaar/free-for-dev        HTML   \n",
       "96                               atom/atom  JavaScript   \n",
       "97                         pytorch/pytorch         C++   \n",
       "98                      angular/angular.js  JavaScript   \n",
       "99                           reduxjs/redux  TypeScript   \n",
       "\n",
       "                                      readme_contents  \n",
       "0   [![freeCodeCamp Social Banner](https://s3.amaz...  \n",
       "1   [996.ICU](https://996.icu/#/en_US)\\n=======\\n*...  \n",
       "2   # List of Free Learning Resources In Many Lang...  \n",
       "3   # Coding Interview University\\n\\n> I originall...  \n",
       "4   <div align=\"center\">\\n\\t<a href=\"https://vshym...  \n",
       "..                                                ...  \n",
       "95  # free-for.dev\\n\\nDevelopers and Open Source a...  \n",
       "96  # Atom\\n\\n[![Build status](https://dev.azure.c...  \n",
       "97  ![PyTorch Logo](https://github.com/pytorch/pyt...  \n",
       "98  Using AngularJS with the Closure Compiler\\n===...  \n",
       "99  # <a href='https://redux.js.org'><img src='htt...  \n",
       "\n",
       "[100 rows x 3 columns]"
      ]
     },
     "execution_count": 17,
     "metadata": {},
     "output_type": "execute_result"
    }
   ],
   "source": [
    "df"
   ]
  },
  {
   "cell_type": "code",
   "execution_count": 18,
   "id": "3638b45f",
   "metadata": {},
   "outputs": [],
   "source": [
    "def readme_length(df):\n",
    "    '''Creates a column with the length (by # of characters) of the readme_contents column'''\n",
    "    l = []\n",
    "    for val in df.readme_contents.index:\n",
    "        l.append(\n",
    "            {\n",
    "                'length': len(df.iloc[val].readme_contents),\n",
    "            }\n",
    "                )\n",
    "    l = pd.DataFrame(l)\n",
    "    df = df.join(l, how='right')\n",
    "    return df"
   ]
  },
  {
   "cell_type": "code",
   "execution_count": 19,
   "id": "865c2de6",
   "metadata": {},
   "outputs": [
    {
     "data": {
      "text/html": [
       "<div>\n",
       "<style scoped>\n",
       "    .dataframe tbody tr th:only-of-type {\n",
       "        vertical-align: middle;\n",
       "    }\n",
       "\n",
       "    .dataframe tbody tr th {\n",
       "        vertical-align: top;\n",
       "    }\n",
       "\n",
       "    .dataframe thead th {\n",
       "        text-align: right;\n",
       "    }\n",
       "</style>\n",
       "<table border=\"1\" class=\"dataframe\">\n",
       "  <thead>\n",
       "    <tr style=\"text-align: right;\">\n",
       "      <th></th>\n",
       "      <th>repo</th>\n",
       "      <th>language</th>\n",
       "      <th>readme_contents</th>\n",
       "      <th>length</th>\n",
       "    </tr>\n",
       "  </thead>\n",
       "  <tbody>\n",
       "    <tr>\n",
       "      <th>0</th>\n",
       "      <td>freeCodeCamp/freeCodeCamp</td>\n",
       "      <td>TypeScript</td>\n",
       "      <td>[![freeCodeCamp Social Banner](https://s3.amaz...</td>\n",
       "      <td>21411</td>\n",
       "    </tr>\n",
       "    <tr>\n",
       "      <th>1</th>\n",
       "      <td>996icu/996.ICU</td>\n",
       "      <td>resources</td>\n",
       "      <td>[996.ICU](https://996.icu/#/en_US)\\n=======\\n*...</td>\n",
       "      <td>7262</td>\n",
       "    </tr>\n",
       "    <tr>\n",
       "      <th>2</th>\n",
       "      <td>EbookFoundation/free-programming-books</td>\n",
       "      <td>resources</td>\n",
       "      <td># List of Free Learning Resources In Many Lang...</td>\n",
       "      <td>14388</td>\n",
       "    </tr>\n",
       "    <tr>\n",
       "      <th>3</th>\n",
       "      <td>jwasham/coding-interview-university</td>\n",
       "      <td>resources</td>\n",
       "      <td># Coding Interview University\\n\\n&gt; I originall...</td>\n",
       "      <td>134890</td>\n",
       "    </tr>\n",
       "    <tr>\n",
       "      <th>4</th>\n",
       "      <td>sindresorhus/awesome</td>\n",
       "      <td>resources</td>\n",
       "      <td>&lt;div align=\"center\"&gt;\\n\\t&lt;a href=\"https://vshym...</td>\n",
       "      <td>74878</td>\n",
       "    </tr>\n",
       "    <tr>\n",
       "      <th>...</th>\n",
       "      <td>...</td>\n",
       "      <td>...</td>\n",
       "      <td>...</td>\n",
       "      <td>...</td>\n",
       "    </tr>\n",
       "    <tr>\n",
       "      <th>95</th>\n",
       "      <td>ripienaar/free-for-dev</td>\n",
       "      <td>HTML</td>\n",
       "      <td># free-for.dev\\n\\nDevelopers and Open Source a...</td>\n",
       "      <td>223396</td>\n",
       "    </tr>\n",
       "    <tr>\n",
       "      <th>96</th>\n",
       "      <td>atom/atom</td>\n",
       "      <td>JavaScript</td>\n",
       "      <td># Atom\\n\\n[![Build status](https://dev.azure.c...</td>\n",
       "      <td>4454</td>\n",
       "    </tr>\n",
       "    <tr>\n",
       "      <th>97</th>\n",
       "      <td>pytorch/pytorch</td>\n",
       "      <td>C++</td>\n",
       "      <td>![PyTorch Logo](https://github.com/pytorch/pyt...</td>\n",
       "      <td>22336</td>\n",
       "    </tr>\n",
       "    <tr>\n",
       "      <th>98</th>\n",
       "      <td>angular/angular.js</td>\n",
       "      <td>JavaScript</td>\n",
       "      <td>Using AngularJS with the Closure Compiler\\n===...</td>\n",
       "      <td>927</td>\n",
       "    </tr>\n",
       "    <tr>\n",
       "      <th>99</th>\n",
       "      <td>reduxjs/redux</td>\n",
       "      <td>TypeScript</td>\n",
       "      <td># &lt;a href='https://redux.js.org'&gt;&lt;img src='htt...</td>\n",
       "      <td>17366</td>\n",
       "    </tr>\n",
       "  </tbody>\n",
       "</table>\n",
       "<p>100 rows × 4 columns</p>\n",
       "</div>"
      ],
      "text/plain": [
       "                                      repo    language  \\\n",
       "0                freeCodeCamp/freeCodeCamp  TypeScript   \n",
       "1                           996icu/996.ICU   resources   \n",
       "2   EbookFoundation/free-programming-books   resources   \n",
       "3      jwasham/coding-interview-university   resources   \n",
       "4                     sindresorhus/awesome   resources   \n",
       "..                                     ...         ...   \n",
       "95                  ripienaar/free-for-dev        HTML   \n",
       "96                               atom/atom  JavaScript   \n",
       "97                         pytorch/pytorch         C++   \n",
       "98                      angular/angular.js  JavaScript   \n",
       "99                           reduxjs/redux  TypeScript   \n",
       "\n",
       "                                      readme_contents  length  \n",
       "0   [![freeCodeCamp Social Banner](https://s3.amaz...   21411  \n",
       "1   [996.ICU](https://996.icu/#/en_US)\\n=======\\n*...    7262  \n",
       "2   # List of Free Learning Resources In Many Lang...   14388  \n",
       "3   # Coding Interview University\\n\\n> I originall...  134890  \n",
       "4   <div align=\"center\">\\n\\t<a href=\"https://vshym...   74878  \n",
       "..                                                ...     ...  \n",
       "95  # free-for.dev\\n\\nDevelopers and Open Source a...  223396  \n",
       "96  # Atom\\n\\n[![Build status](https://dev.azure.c...    4454  \n",
       "97  ![PyTorch Logo](https://github.com/pytorch/pyt...   22336  \n",
       "98  Using AngularJS with the Closure Compiler\\n===...     927  \n",
       "99  # <a href='https://redux.js.org'><img src='htt...   17366  \n",
       "\n",
       "[100 rows x 4 columns]"
      ]
     },
     "execution_count": 19,
     "metadata": {},
     "output_type": "execute_result"
    }
   ],
   "source": [
    "df = readme_length(df)\n",
    "df"
   ]
  },
  {
   "cell_type": "code",
   "execution_count": 20,
   "id": "51a5e432",
   "metadata": {},
   "outputs": [],
   "source": [
    "def clean(text: str) -> list:\n",
    "    'A simple function to cleanup text data'\n",
    "    wnl = nltk.stem.WordNetLemmatizer()\n",
    "    stopwords = set(nltk.corpus.stopwords.words('english'))\n",
    "    text = (text.encode('ascii', 'ignore')\n",
    "             .decode('utf-8', 'ignore')\n",
    "             .lower())\n",
    "    words = re.sub(r'[^\\w\\s]', '', text)#😉 # tokenization\n",
    "    words = re.sub(r'\\w{15,}','',words).split()\n",
    "    return [wnl.lemmatize(word) for word in words if word not in stopwords]"
   ]
  },
  {
   "cell_type": "code",
   "execution_count": 21,
   "id": "06bb3df1",
   "metadata": {},
   "outputs": [],
   "source": [
    "def clean_readme(df):\n",
    "    '''Creates a new column that encodes, decodes, lemmatizes and removes \n",
    "        words greater than 15 characters and puts them into a list'''\n",
    "    df['clean'] = df.readme_contents.apply(clean)\n",
    "    return df"
   ]
  },
  {
   "cell_type": "code",
   "execution_count": 22,
   "id": "ce951d6d",
   "metadata": {},
   "outputs": [
    {
     "data": {
      "text/html": [
       "<div>\n",
       "<style scoped>\n",
       "    .dataframe tbody tr th:only-of-type {\n",
       "        vertical-align: middle;\n",
       "    }\n",
       "\n",
       "    .dataframe tbody tr th {\n",
       "        vertical-align: top;\n",
       "    }\n",
       "\n",
       "    .dataframe thead th {\n",
       "        text-align: right;\n",
       "    }\n",
       "</style>\n",
       "<table border=\"1\" class=\"dataframe\">\n",
       "  <thead>\n",
       "    <tr style=\"text-align: right;\">\n",
       "      <th></th>\n",
       "      <th>repo</th>\n",
       "      <th>language</th>\n",
       "      <th>readme_contents</th>\n",
       "      <th>length</th>\n",
       "      <th>clean</th>\n",
       "    </tr>\n",
       "  </thead>\n",
       "  <tbody>\n",
       "    <tr>\n",
       "      <th>0</th>\n",
       "      <td>freeCodeCamp/freeCodeCamp</td>\n",
       "      <td>TypeScript</td>\n",
       "      <td>[![freeCodeCamp Social Banner](https://s3.amaz...</td>\n",
       "      <td>21411</td>\n",
       "      <td>[freecodecamp, social, pull, request, open, so...</td>\n",
       "    </tr>\n",
       "    <tr>\n",
       "      <th>1</th>\n",
       "      <td>996icu/996.ICU</td>\n",
       "      <td>resources</td>\n",
       "      <td>[996.ICU](https://996.icu/#/en_US)\\n=======\\n*...</td>\n",
       "      <td>7262</td>\n",
       "      <td>[please, note, exists, official, account, app,...</td>\n",
       "    </tr>\n",
       "    <tr>\n",
       "      <th>2</th>\n",
       "      <td>EbookFoundation/free-programming-books</td>\n",
       "      <td>resources</td>\n",
       "      <td># List of Free Learning Resources In Many Lang...</td>\n",
       "      <td>14388</td>\n",
       "      <td>[list, free, learning, resource, many, languag...</td>\n",
       "    </tr>\n",
       "    <tr>\n",
       "      <th>3</th>\n",
       "      <td>jwasham/coding-interview-university</td>\n",
       "      <td>resources</td>\n",
       "      <td># Coding Interview University\\n\\n&gt; I originall...</td>\n",
       "      <td>134890</td>\n",
       "      <td>[coding, interview, university, originally, cr...</td>\n",
       "    </tr>\n",
       "    <tr>\n",
       "      <th>4</th>\n",
       "      <td>sindresorhus/awesome</td>\n",
       "      <td>resources</td>\n",
       "      <td>&lt;div align=\"center\"&gt;\\n\\t&lt;a href=\"https://vshym...</td>\n",
       "      <td>74878</td>\n",
       "      <td>[div, aligncenter, img, width500, height350, a...</td>\n",
       "    </tr>\n",
       "  </tbody>\n",
       "</table>\n",
       "</div>"
      ],
      "text/plain": [
       "                                     repo    language  \\\n",
       "0               freeCodeCamp/freeCodeCamp  TypeScript   \n",
       "1                          996icu/996.ICU   resources   \n",
       "2  EbookFoundation/free-programming-books   resources   \n",
       "3     jwasham/coding-interview-university   resources   \n",
       "4                    sindresorhus/awesome   resources   \n",
       "\n",
       "                                     readme_contents  length  \\\n",
       "0  [![freeCodeCamp Social Banner](https://s3.amaz...   21411   \n",
       "1  [996.ICU](https://996.icu/#/en_US)\\n=======\\n*...    7262   \n",
       "2  # List of Free Learning Resources In Many Lang...   14388   \n",
       "3  # Coding Interview University\\n\\n> I originall...  134890   \n",
       "4  <div align=\"center\">\\n\\t<a href=\"https://vshym...   74878   \n",
       "\n",
       "                                               clean  \n",
       "0  [freecodecamp, social, pull, request, open, so...  \n",
       "1  [please, note, exists, official, account, app,...  \n",
       "2  [list, free, learning, resource, many, languag...  \n",
       "3  [coding, interview, university, originally, cr...  \n",
       "4  [div, aligncenter, img, width500, height350, a...  "
      ]
     },
     "execution_count": 22,
     "metadata": {},
     "output_type": "execute_result"
    }
   ],
   "source": [
    "df = clean_readme(df)\n",
    "df.head()"
   ]
  },
  {
   "cell_type": "code",
   "execution_count": 23,
   "id": "083656dd",
   "metadata": {},
   "outputs": [],
   "source": [
    "def word_count(df):\n",
    "    '''Creates a column with number of words in the clean column'''\n",
    "    w = []\n",
    "    for val in df.readme_contents.index:\n",
    "        w.append(\n",
    "            {\n",
    "                'word_count': len(df.clean.iloc[val]),\n",
    "            }\n",
    "                )\n",
    "    w = pd.DataFrame(w)\n",
    "    df = df.join(w, how='right')\n",
    "    return df"
   ]
  },
  {
   "cell_type": "code",
   "execution_count": 24,
   "id": "5cf824e3",
   "metadata": {},
   "outputs": [
    {
     "data": {
      "text/html": [
       "<div>\n",
       "<style scoped>\n",
       "    .dataframe tbody tr th:only-of-type {\n",
       "        vertical-align: middle;\n",
       "    }\n",
       "\n",
       "    .dataframe tbody tr th {\n",
       "        vertical-align: top;\n",
       "    }\n",
       "\n",
       "    .dataframe thead th {\n",
       "        text-align: right;\n",
       "    }\n",
       "</style>\n",
       "<table border=\"1\" class=\"dataframe\">\n",
       "  <thead>\n",
       "    <tr style=\"text-align: right;\">\n",
       "      <th></th>\n",
       "      <th>repo</th>\n",
       "      <th>language</th>\n",
       "      <th>readme_contents</th>\n",
       "      <th>length</th>\n",
       "      <th>clean</th>\n",
       "      <th>word_count</th>\n",
       "    </tr>\n",
       "  </thead>\n",
       "  <tbody>\n",
       "    <tr>\n",
       "      <th>0</th>\n",
       "      <td>freeCodeCamp/freeCodeCamp</td>\n",
       "      <td>TypeScript</td>\n",
       "      <td>[![freeCodeCamp Social Banner](https://s3.amaz...</td>\n",
       "      <td>21411</td>\n",
       "      <td>[freecodecamp, social, pull, request, open, so...</td>\n",
       "      <td>668</td>\n",
       "    </tr>\n",
       "    <tr>\n",
       "      <th>1</th>\n",
       "      <td>996icu/996.ICU</td>\n",
       "      <td>resources</td>\n",
       "      <td>[996.ICU](https://996.icu/#/en_US)\\n=======\\n*...</td>\n",
       "      <td>7262</td>\n",
       "      <td>[please, note, exists, official, account, app,...</td>\n",
       "      <td>444</td>\n",
       "    </tr>\n",
       "    <tr>\n",
       "      <th>2</th>\n",
       "      <td>EbookFoundation/free-programming-books</td>\n",
       "      <td>resources</td>\n",
       "      <td># List of Free Learning Resources In Many Lang...</td>\n",
       "      <td>14388</td>\n",
       "      <td>[list, free, learning, resource, many, languag...</td>\n",
       "      <td>365</td>\n",
       "    </tr>\n",
       "    <tr>\n",
       "      <th>3</th>\n",
       "      <td>jwasham/coding-interview-university</td>\n",
       "      <td>resources</td>\n",
       "      <td># Coding Interview University\\n\\n&gt; I originall...</td>\n",
       "      <td>134890</td>\n",
       "      <td>[coding, interview, university, originally, cr...</td>\n",
       "      <td>6509</td>\n",
       "    </tr>\n",
       "    <tr>\n",
       "      <th>4</th>\n",
       "      <td>sindresorhus/awesome</td>\n",
       "      <td>resources</td>\n",
       "      <td>&lt;div align=\"center\"&gt;\\n\\t&lt;a href=\"https://vshym...</td>\n",
       "      <td>74878</td>\n",
       "      <td>[div, aligncenter, img, width500, height350, a...</td>\n",
       "      <td>2855</td>\n",
       "    </tr>\n",
       "  </tbody>\n",
       "</table>\n",
       "</div>"
      ],
      "text/plain": [
       "                                     repo    language  \\\n",
       "0               freeCodeCamp/freeCodeCamp  TypeScript   \n",
       "1                          996icu/996.ICU   resources   \n",
       "2  EbookFoundation/free-programming-books   resources   \n",
       "3     jwasham/coding-interview-university   resources   \n",
       "4                    sindresorhus/awesome   resources   \n",
       "\n",
       "                                     readme_contents  length  \\\n",
       "0  [![freeCodeCamp Social Banner](https://s3.amaz...   21411   \n",
       "1  [996.ICU](https://996.icu/#/en_US)\\n=======\\n*...    7262   \n",
       "2  # List of Free Learning Resources In Many Lang...   14388   \n",
       "3  # Coding Interview University\\n\\n> I originall...  134890   \n",
       "4  <div align=\"center\">\\n\\t<a href=\"https://vshym...   74878   \n",
       "\n",
       "                                               clean  word_count  \n",
       "0  [freecodecamp, social, pull, request, open, so...         668  \n",
       "1  [please, note, exists, official, account, app,...         444  \n",
       "2  [list, free, learning, resource, many, languag...         365  \n",
       "3  [coding, interview, university, originally, cr...        6509  \n",
       "4  [div, aligncenter, img, width500, height350, a...        2855  "
      ]
     },
     "execution_count": 24,
     "metadata": {},
     "output_type": "execute_result"
    }
   ],
   "source": [
    "df = word_count(df)\n",
    "df.head()"
   ]
  },
  {
   "cell_type": "code",
   "execution_count": 25,
   "id": "7870395a",
   "metadata": {},
   "outputs": [],
   "source": [
    "def combined_words(df):\n",
    "    '''Joins the list of words in the clean column to one string'''\n",
    "    df['words'] = df.clean.apply(' '.join)\n",
    "    return df"
   ]
  },
  {
   "cell_type": "code",
   "execution_count": 26,
   "id": "1b679849",
   "metadata": {},
   "outputs": [
    {
     "data": {
      "text/html": [
       "<div>\n",
       "<style scoped>\n",
       "    .dataframe tbody tr th:only-of-type {\n",
       "        vertical-align: middle;\n",
       "    }\n",
       "\n",
       "    .dataframe tbody tr th {\n",
       "        vertical-align: top;\n",
       "    }\n",
       "\n",
       "    .dataframe thead th {\n",
       "        text-align: right;\n",
       "    }\n",
       "</style>\n",
       "<table border=\"1\" class=\"dataframe\">\n",
       "  <thead>\n",
       "    <tr style=\"text-align: right;\">\n",
       "      <th></th>\n",
       "      <th>repo</th>\n",
       "      <th>language</th>\n",
       "      <th>readme_contents</th>\n",
       "      <th>length</th>\n",
       "      <th>clean</th>\n",
       "      <th>word_count</th>\n",
       "      <th>words</th>\n",
       "    </tr>\n",
       "  </thead>\n",
       "  <tbody>\n",
       "    <tr>\n",
       "      <th>0</th>\n",
       "      <td>freeCodeCamp/freeCodeCamp</td>\n",
       "      <td>TypeScript</td>\n",
       "      <td>[![freeCodeCamp Social Banner](https://s3.amaz...</td>\n",
       "      <td>21411</td>\n",
       "      <td>[freecodecamp, social, pull, request, open, so...</td>\n",
       "      <td>668</td>\n",
       "      <td>freecodecamp social pull request open source s...</td>\n",
       "    </tr>\n",
       "    <tr>\n",
       "      <th>1</th>\n",
       "      <td>996icu/996.ICU</td>\n",
       "      <td>resources</td>\n",
       "      <td>[996.ICU](https://996.icu/#/en_US)\\n=======\\n*...</td>\n",
       "      <td>7262</td>\n",
       "      <td>[please, note, exists, official, account, app,...</td>\n",
       "      <td>444</td>\n",
       "      <td>please note exists official account app mercha...</td>\n",
       "    </tr>\n",
       "    <tr>\n",
       "      <th>2</th>\n",
       "      <td>EbookFoundation/free-programming-books</td>\n",
       "      <td>resources</td>\n",
       "      <td># List of Free Learning Resources In Many Lang...</td>\n",
       "      <td>14388</td>\n",
       "      <td>[list, free, learning, resource, many, languag...</td>\n",
       "      <td>365</td>\n",
       "      <td>list free learning resource many language div ...</td>\n",
       "    </tr>\n",
       "    <tr>\n",
       "      <th>3</th>\n",
       "      <td>jwasham/coding-interview-university</td>\n",
       "      <td>resources</td>\n",
       "      <td># Coding Interview University\\n\\n&gt; I originall...</td>\n",
       "      <td>134890</td>\n",
       "      <td>[coding, interview, university, originally, cr...</td>\n",
       "      <td>6509</td>\n",
       "      <td>coding interview university originally created...</td>\n",
       "    </tr>\n",
       "    <tr>\n",
       "      <th>4</th>\n",
       "      <td>sindresorhus/awesome</td>\n",
       "      <td>resources</td>\n",
       "      <td>&lt;div align=\"center\"&gt;\\n\\t&lt;a href=\"https://vshym...</td>\n",
       "      <td>74878</td>\n",
       "      <td>[div, aligncenter, img, width500, height350, a...</td>\n",
       "      <td>2855</td>\n",
       "      <td>div aligncenter img width500 height350 altawes...</td>\n",
       "    </tr>\n",
       "  </tbody>\n",
       "</table>\n",
       "</div>"
      ],
      "text/plain": [
       "                                     repo    language  \\\n",
       "0               freeCodeCamp/freeCodeCamp  TypeScript   \n",
       "1                          996icu/996.ICU   resources   \n",
       "2  EbookFoundation/free-programming-books   resources   \n",
       "3     jwasham/coding-interview-university   resources   \n",
       "4                    sindresorhus/awesome   resources   \n",
       "\n",
       "                                     readme_contents  length  \\\n",
       "0  [![freeCodeCamp Social Banner](https://s3.amaz...   21411   \n",
       "1  [996.ICU](https://996.icu/#/en_US)\\n=======\\n*...    7262   \n",
       "2  # List of Free Learning Resources In Many Lang...   14388   \n",
       "3  # Coding Interview University\\n\\n> I originall...  134890   \n",
       "4  <div align=\"center\">\\n\\t<a href=\"https://vshym...   74878   \n",
       "\n",
       "                                               clean  word_count  \\\n",
       "0  [freecodecamp, social, pull, request, open, so...         668   \n",
       "1  [please, note, exists, official, account, app,...         444   \n",
       "2  [list, free, learning, resource, many, languag...         365   \n",
       "3  [coding, interview, university, originally, cr...        6509   \n",
       "4  [div, aligncenter, img, width500, height350, a...        2855   \n",
       "\n",
       "                                               words  \n",
       "0  freecodecamp social pull request open source s...  \n",
       "1  please note exists official account app mercha...  \n",
       "2  list free learning resource many language div ...  \n",
       "3  coding interview university originally created...  \n",
       "4  div aligncenter img width500 height350 altawes...  "
      ]
     },
     "execution_count": 26,
     "metadata": {},
     "output_type": "execute_result"
    }
   ],
   "source": [
    "df = combined_words(df)\n",
    "df.head()"
   ]
  },
  {
   "cell_type": "code",
   "execution_count": null,
   "id": "f3228d31",
   "metadata": {},
   "outputs": [],
   "source": []
  },
  {
   "cell_type": "markdown",
   "id": "a9acd877",
   "metadata": {},
   "source": [
    "---"
   ]
  },
  {
   "cell_type": "code",
   "execution_count": 27,
   "id": "ec9760b9",
   "metadata": {},
   "outputs": [],
   "source": [
    "X = df.words\n",
    "y = df.language\n",
    "X_train, X_test, y_train, y_test = \\\n",
    "train_test_split(X, y, test_size=0.2, random_state=536)"
   ]
  },
  {
   "cell_type": "code",
   "execution_count": 28,
   "id": "c0eda43e",
   "metadata": {},
   "outputs": [
    {
     "data": {
      "text/plain": [
       "0     freecodecamp social pull request open source s...\n",
       "1     please note exists official account app mercha...\n",
       "2     list free learning resource many language div ...\n",
       "3     coding interview university originally created...\n",
       "4     div aligncenter img width500 height350 altawes...\n",
       "                            ...                        \n",
       "95    freefordev developer open source author massiv...\n",
       "96    atom build atom repository atom archived decem...\n",
       "97    pytorch pytorch python package provides two hi...\n",
       "98    using angularjs closure compiler closure compi...\n",
       "99    height60 altredux logo redux predictable state...\n",
       "Name: words, Length: 100, dtype: object"
      ]
     },
     "execution_count": 28,
     "metadata": {},
     "output_type": "execute_result"
    }
   ],
   "source": [
    "X"
   ]
  },
  {
   "cell_type": "code",
   "execution_count": 29,
   "id": "d28e7815",
   "metadata": {},
   "outputs": [
    {
     "data": {
      "text/plain": [
       "array([66, 63, 94, 96, 57, 29, 47, 55, 38,  5, 71, 65, 76, 49, 72, 17, 58,\n",
       "       91, 67,  6,  7, 83, 13, 45,  4, 75,  2,  8, 88, 56, 48, 14, 21, 20,\n",
       "        3, 24, 37, 33, 89, 10, 23, 64, 35, 16, 15, 79, 36, 19, 80, 32, 87,\n",
       "        1, 39, 44, 69, 26, 59, 78, 77, 22,  0, 74, 12, 52, 81, 25, 30, 60,\n",
       "       84, 73, 97, 93, 98, 53, 42, 27, 34, 85, 46, 28])"
      ]
     },
     "execution_count": 29,
     "metadata": {},
     "output_type": "execute_result"
    }
   ],
   "source": [
    "X_train.index.values"
   ]
  },
  {
   "cell_type": "code",
   "execution_count": 30,
   "id": "cde84b7c",
   "metadata": {},
   "outputs": [
    {
     "data": {
      "text/plain": [
       "66    2406\n",
       "63     776\n",
       "94     143\n",
       "96     254\n",
       "57    1727\n",
       "      ... \n",
       "27    6722\n",
       "34     131\n",
       "85     116\n",
       "46     107\n",
       "28    3692\n",
       "Name: word_count, Length: 80, dtype: int64"
      ]
     },
     "execution_count": 30,
     "metadata": {},
     "output_type": "execute_result"
    }
   ],
   "source": [
    "df.word_count.iloc[X_train.index.values]"
   ]
  },
  {
   "cell_type": "code",
   "execution_count": 31,
   "id": "22b7f730",
   "metadata": {},
   "outputs": [
    {
     "data": {
      "image/png": "[encoded data removed]",
      "text/plain": [
       "<Figure size 1152x648 with 1 Axes>"
      ]
     },
     "metadata": {
      "needs_background": "light"
     },
     "output_type": "display_data"
    }
   ],
   "source": [
    "plt.figure(figsize=(16,9))\n",
    "plt.bar(range(len(df.word_count)), sorted(df.word_count), color='black')\n",
    "plt.bar(range(len(df.length)), sorted(df.length), color='lightsteelblue', alpha=0.5)\n",
    "plt.ylabel('Count')\n",
    "plt.xlim(0,100)\n",
    "plt.grid()\n",
    "plt.title('Distribution of Character Length and word Count per Repository')\n",
    "plt.legend(['Word Count', 'Length'])\n",
    "plt.show()"
   ]
  },
  {
   "cell_type": "code",
   "execution_count": 33,
   "id": "32f2d5b4",
   "metadata": {
    "scrolled": false
   },
   "outputs": [],
   "source": [
    "def train_count(df, X_train):\n",
    "    plt.figure(figsize=(16,9))\n",
    "    plt.bar(range(len(df.word_count.iloc[X_train.index.values])), sorted(df.word_count.iloc[X_train.index.values]), color='black')\n",
    "    plt.bar(range(len(df.length.iloc[X_train.index.values])), sorted(df.length.iloc[X_train.index.values]), color='lightsteelblue', alpha=0.5)\n",
    "    plt.ylabel('Count')\n",
    "    plt.xlim(0,80)\n",
    "    plt.grid()\n",
    "    plt.title('Distribution of Character Length and word Count per Repository')\n",
    "    plt.legend(['Word Count', 'Length'])\n",
    "    plt.show()"
   ]
  },
  {
   "cell_type": "code",
   "execution_count": 37,
   "id": "a47d5597",
   "metadata": {
    "scrolled": false
   },
   "outputs": [
    {
     "data": {
      "image/png": "[encoded data removed]",
      "text/plain": [
       "<Figure size 1152x648 with 1 Axes>"
      ]
     },
     "metadata": {
      "needs_background": "light"
     },
     "output_type": "display_data"
    }
   ],
   "source": [
    "plt.figure(figsize=(16,9))\n",
    "plt.bar(range(len(df.word_count.iloc[X_train.index.values])), sorted(df.word_count.iloc[X_train.index.values]), color='black')\n",
    "plt.bar(range(len(df.length.iloc[X_train.index.values])), sorted(df.length.iloc[X_train.index.values]), color='lightsteelblue', alpha=0.5)\n",
    "plt.ylabel('Count')\n",
    "plt.xlim(0,80)\n",
    "plt.grid()\n",
    "plt.title('Distribution of Character Length and Word Count per Repository')\n",
    "plt.legend(['Word Count', 'Length'])\n",
    "plt.show()"
   ]
  },
  {
   "cell_type": "code",
   "execution_count": 34,
   "id": "edebb9d7",
   "metadata": {},
   "outputs": [
    {
     "data": {
      "text/plain": [
       "Int64Index([95, 9, 62, 50, 40, 70, 61, 99, 43, 90, 51, 41, 68, 92, 31, 86, 18,\n",
       "            11, 82, 54],\n",
       "           dtype='int64')"
      ]
     },
     "execution_count": 34,
     "metadata": {},
     "output_type": "execute_result"
    }
   ],
   "source": [
    "X_test.index"
   ]
  },
  {
   "cell_type": "code",
   "execution_count": 35,
   "id": "8fb31fc8",
   "metadata": {},
   "outputs": [
    {
     "data": {
      "image/png": "[encoded data removed]",
      "text/plain": [
       "<Figure size 1152x648 with 1 Axes>"
      ]
     },
     "metadata": {
      "needs_background": "light"
     },
     "output_type": "display_data"
    }
   ],
   "source": [
    "plt.figure(figsize=(16,9))\n",
    "plt.bar(range(len(df.word_count.iloc[X_test.index.values])), sorted(df.word_count.iloc[X_test.index.values]), color='black')\n",
    "plt.bar(range(len(df.length.iloc[X_test.index.values])), sorted(df.length.iloc[X_test.index.values]), color='lightsteelblue', alpha=0.5)\n",
    "plt.ylabel('Count')\n",
    "plt.xlim(0,20)\n",
    "plt.grid()\n",
    "plt.title('Distribution of Character Length and word Count per Repository')\n",
    "plt.legend(['Word Count', 'Length'])\n",
    "plt.show()"
   ]
  },
  {
   "cell_type": "code",
   "execution_count": null,
   "id": "9391339e",
   "metadata": {},
   "outputs": [],
   "source": []
  }
 ],
 "metadata": {
  "kernelspec": {
   "display_name": "Python 3 (ipykernel)",
   "language": "python",
   "name": "python3"
  },
  "language_info": {
   "codemirror_mode": {
    "name": "ipython",
    "version": 3
   },
   "file_extension": ".py",
   "mimetype": "text/x-python",
   "name": "python",
   "nbconvert_exporter": "python",
   "pygments_lexer": "ipython3",
   "version": "3.9.12"
  }
 },
 "nbformat": 4,
 "nbformat_minor": 5
}
