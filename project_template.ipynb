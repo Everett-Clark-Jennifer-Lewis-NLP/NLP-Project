{
 "cells": [
  {
   "cell_type": "markdown",
   "id": "1e4901df",
   "metadata": {},
   "source": [
    "PICTURE"
   ]
  },
  {
   "cell_type": "markdown",
   "id": "8256bb71",
   "metadata": {},
   "source": [
    "---"
   ]
  },
  {
   "cell_type": "markdown",
   "id": "814ad16b",
   "metadata": {},
   "source": [
    "<div class=\"alert alert-block alert-info\">\n",
    "\n",
    "# Business Goals:\n",
    "### 1. "
   ]
  },
  {
   "cell_type": "markdown",
   "id": "4e57e87c",
   "metadata": {},
   "source": [
    "---"
   ]
  },
  {
   "cell_type": "markdown",
   "id": "16441e5c",
   "metadata": {},
   "source": [
    "# Project Summary:\n"
   ]
  },
  {
   "cell_type": "markdown",
   "id": "b40b0437",
   "metadata": {},
   "source": [
    "### 1. "
   ]
  },
  {
   "cell_type": "markdown",
   "id": "a80fa4e7",
   "metadata": {},
   "source": [
    "---"
   ]
  },
  {
   "cell_type": "markdown",
   "id": "dfc3f64c",
   "metadata": {},
   "source": [
    "## Imports:"
   ]
  },
  {
   "cell_type": "code",
   "execution_count": null,
   "id": "f45144b5",
   "metadata": {},
   "outputs": [],
   "source": []
  },
  {
   "cell_type": "markdown",
   "id": "678369c2",
   "metadata": {},
   "source": [
    "## Questions:\n",
    "    - "
   ]
  },
  {
   "cell_type": "markdown",
   "id": "23ba132f",
   "metadata": {},
   "source": [
    "---"
   ]
  },
  {
   "cell_type": "markdown",
   "id": "207efca4",
   "metadata": {},
   "source": [
    "<div class=\"alert alert-block alert-warning\">\n",
    "    \n",
    "# Acquisition:"
   ]
  },
  {
   "cell_type": "code",
   "execution_count": null,
   "id": "2f7d5c36",
   "metadata": {},
   "outputs": [],
   "source": []
  },
  {
   "cell_type": "markdown",
   "id": "79609521",
   "metadata": {},
   "source": [
    "---"
   ]
  },
  {
   "cell_type": "markdown",
   "id": "4bdba81c",
   "metadata": {},
   "source": [
    "<div class=\"alert alert-block alert-warning\">\n",
    "\n",
    "# Preparation: "
   ]
  },
  {
   "cell_type": "markdown",
   "id": "ad8aca90",
   "metadata": {},
   "source": [
    "---"
   ]
  },
  {
   "cell_type": "markdown",
   "id": "1a29333f",
   "metadata": {},
   "source": [
    "<div class=\"alert alert-block alert-warning\">\n",
    "\n",
    "# Exploration and Pre-Processing:"
   ]
  },
  {
   "cell_type": "code",
   "execution_count": null,
   "id": "4559fdb2",
   "metadata": {},
   "outputs": [],
   "source": []
  },
  {
   "cell_type": "markdown",
   "id": "93eece2e",
   "metadata": {},
   "source": [
    "---"
   ]
  },
  {
   "cell_type": "markdown",
   "id": "a2964bb7",
   "metadata": {},
   "source": [
    "<div class=\"alert alert-block alert-warning\">\n",
    "\n",
    "# Modeling:"
   ]
  },
  {
   "cell_type": "markdown",
   "id": "0cbd9121",
   "metadata": {},
   "source": [
    "---"
   ]
  },
  {
   "cell_type": "markdown",
   "id": "4ae12b48",
   "metadata": {},
   "source": [
    "<div class=\"alert alert-block alert-success\">\n",
    "\n",
    "# Findings:\n",
    "## 1. "
   ]
  },
  {
   "cell_type": "markdown",
   "id": "0c9f6bc0",
   "metadata": {},
   "source": [
    "# Recommendations:\n",
    "## 1. "
   ]
  },
  {
   "cell_type": "markdown",
   "id": "c19aa58e",
   "metadata": {},
   "source": [
    "---"
   ]
  }
 ],
 "metadata": {
  "kernelspec": {
   "display_name": "Python 3 (ipykernel)",
   "language": "python",
   "name": "python3"
  },
  "language_info": {
   "codemirror_mode": {
    "name": "ipython",
    "version": 3
   },
   "file_extension": ".py",
   "mimetype": "text/x-python",
   "name": "python",
   "nbconvert_exporter": "python",
   "pygments_lexer": "ipython3",
   "version": "3.9.12"
  }
 },
 "nbformat": 4,
 "nbformat_minor": 5
}
